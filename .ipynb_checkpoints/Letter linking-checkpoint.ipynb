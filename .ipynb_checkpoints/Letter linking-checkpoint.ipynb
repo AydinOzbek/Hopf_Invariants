{
 "cells": [
  {
   "cell_type": "markdown",
   "id": "0e77fa52",
   "metadata": {},
   "source": [
    "## Letter Linking"
   ]
  },
  {
   "cell_type": "markdown",
   "id": "b5353cd8",
   "metadata": {},
   "source": [
    "Info encoded:\n",
    "    \n",
    "    ~word length k in free group on n letters : \n",
    "            list of length k, \n",
    "            elements are lists of integers of length 2, \n",
    "            [i][0] = 1, ... , n\n",
    "            [i][1] = -1, +1 \n",
    "            example: [ [1,-1] , [1,-1] , [4,1] , [3,-1] ] is word $ X_1^{-2} X_4 X_3^{-1} $ \n",
    "            \n",
    "    ~Function on a word:\n",
    "            list of integers the same length as the word\n",
    "            \n",
    "    ~1-Form on a word:\n",
    "            list of integers the same length as the word which is anti symmetric\n",
    "            \n",
    "    ~Symbols:\n",
    "            Strings '(1)((2)3)2' = 1--> 2 <-- 3 <--2\n",
    "            \n",
    "    ~Node (class):\n",
    "            FILL OUT\n",
    "            \n",
    "Functions:\n",
    "\n",
    "    ~dx(word):\n",
    "        returns the cannonical 1-form on this word\n",
    "        \n",
    "    ~chi(k)(word):\n",
    "        returns the indicator 1-form on the word with respect to the k^th letter X_k\n",
    "        \n",
    "    ~isForm(word, 1-form):\n",
    "         returns boolean if 1-form is valid on the word\n",
    "             (not used currently)\n",
    "             \n",
    "    ~dInv(word, 1-form):\n",
    "         returns the function which is d^{-1}(form)\n",
    "         \n",
    "    ~concatenate(list of strings):\n",
    "         returns string which is concatenation of the elements in the list of strings\n",
    "         \n",
    "    ~letterLink(symbol, word):\n",
    "         returns the 1-form on the word as prescribed by the symbol\n",
    "             IDEA: recursive function \n",
    "                 ~if symbol = '1',...,'n': return appropriate indicator form\n",
    "                 ~if symbol = '(inside)': return dInv(word , letterLink('inside' ,word))\n",
    "                 ~else: break symbol into concatenation of symbols of the previous type \n",
    "                        find product of letterLink of sub symbols\n",
    "                         i.e. '(1)((2)1)4' --> [ '(1)' , '((2)1)' , '4' ]\n",
    "                          return letterLink('(1)') * letterLink('((2)1)') * letterLink('4')\n",
    "         \n",
    "    ~agentAlg(word, root of tree):\n",
    "         prints the values of the letterlinking functions as prescribed by the tree\n",
    "        \n",
    "    ~symbolToTree(symbol):\n",
    "         returns root node of tree as perscribed by the symbol"
   ]
  },
  {
   "cell_type": "markdown",
   "id": "d2989fbe",
   "metadata": {},
   "source": [
    "## Agent algorithm"
   ]
  },
  {
   "cell_type": "markdown",
   "id": "167b41f0",
   "metadata": {},
   "source": [
    "######Sketch of algorithm\n",
    "\n",
    "n = number of nodes\n",
    "\n",
    "functions = list of size n\n",
    "            organized by distance from leaf so that order of update is\n",
    "                ~leaves\n",
    "                ~children of leaves\n",
    "                .\n",
    "                .\n",
    "                ~root\n",
    "            initialize all functions to 0\n",
    "\n",
    "for i in range(len(word)):\n",
    "    #update values of all functions\n",
    "    leaf function = leaf function + value of form at i\n",
    "    other functions = other function + value of form at i*(prouct of parent functions at i)\n"
   ]
  },
  {
   "cell_type": "code",
   "execution_count": 1,
   "id": "26aa62ff",
   "metadata": {},
   "outputs": [],
   "source": [
    "#Starting info\n",
    "numGen = 4"
   ]
  },
  {
   "cell_type": "code",
   "execution_count": 2,
   "id": "645c4330",
   "metadata": {},
   "outputs": [],
   "source": [
    "import numpy as np"
   ]
  },
  {
   "cell_type": "code",
   "execution_count": 3,
   "id": "9094b8cf",
   "metadata": {},
   "outputs": [],
   "source": [
    "##standard 1-form dx on w\n",
    "def dx(word):\n",
    "    return np.array([ word[i][1] for i in range(len(word)) ])\n"
   ]
  },
  {
   "cell_type": "code",
   "execution_count": 4,
   "id": "e632e1b0",
   "metadata": {},
   "outputs": [],
   "source": [
    "##indicator forms on w\n",
    "#creates the function chi_k which is the indicator 1-form for k^th letter\n",
    "#that is chi_k ( in : word ; out : list of signed occurances of x_k )\n",
    "def chi(k):\n",
    "    if k not in range(1 , numGen +1):\n",
    "        return lambda w : \"Error: indicator variable out of range\"\n",
    "    else:\n",
    "        return lambda w : np.array([w[i][1] if w[i][0] == k else 0 for i in range(len(w)) ])"
   ]
  },
  {
   "cell_type": "code",
   "execution_count": 5,
   "id": "f25a1453",
   "metadata": {},
   "outputs": [],
   "source": [
    "##function which checks if list is 1-form or function with respect to a word\n",
    "def isForm(word, form):\n",
    "    #check if they have the same length\n",
    "    if len(word) != len(form):\n",
    "        print(\"\\nword and form are not the same length\")\n",
    "        return False\n",
    "    #For each letter in alphabet find (with sign) occurances in word\n",
    "    enWord = list(enumerate(word))\n",
    "    for i in range(1,numGen+1):\n",
    "        posi = [index for (index , item) in enWord if item == [i,1]] \n",
    "        negi = [index for (index , item) in enWord if item == [i,-1]]\n",
    "        \n",
    "        #for the i^th letter in alphabet, check that these lists are appropriate\n",
    "        ######## POTENTIAL SPEED UP HERE: ONLY NEED TO CHECK HALF OF CARTESIAN PRODUCT\n",
    "        for k in cartesian_product([posi,posi]):\n",
    "            if form[k[0]] != form[k[1]]:\n",
    "                print(f'\\nvalue of form on letter X_{i} is not constant')\n",
    "                return False\n",
    "            \n",
    "        for k in cartesian_product([negi, negi]):\n",
    "            if form[k[0]] != form[k[1]]:\n",
    "                print(f'\\nvalue of form on letter X_{i}^-1 is not constant')\n",
    "                return False\n",
    "            \n",
    "        for k in cartesian_product([posi,negi]):\n",
    "            if form[k[0]] != -form[k[1]]:\n",
    "                print(f'\\nform is not antisymmetric with respect to involution')\n",
    "                return False\n",
    "    return True    \n",
    "            \n",
    "            "
   ]
  },
  {
   "cell_type": "code",
   "execution_count": 6,
   "id": "2b839f50",
   "metadata": {},
   "outputs": [],
   "source": [
    "##anti derivative of 1-form\n",
    "def dInv( word, form ):\n",
    "    #make sure form is an array\n",
    "    form = np.array(form)\n",
    "    \n",
    "    ####### muting this check for the time being\n",
    "    \n",
    "    #check that form and word are compatible (i.e. form is skew symmetric )\n",
    "    #if isForm(word, form) == False:\n",
    "     #   raise TypeError('form and word are incompatible')\n",
    "    \n",
    "    ######\n",
    "    \n",
    "    #find unique function f so that form = f dx\n",
    "    f = form * dx(word)\n",
    "    #create list epsilon\n",
    "    epsilon = [1 if word[i][1] == 1 else 0 for i in range(len(word))]\n",
    "    #with f calculate the anti derivative\n",
    "    return np.array([sum(form[:i]) + epsilon[i]*f[i] for i in range(len(word))])"
   ]
  },
  {
   "cell_type": "code",
   "execution_count": 7,
   "id": "bec515b6",
   "metadata": {},
   "outputs": [],
   "source": [
    "#List of strings to string function\n",
    "def concatenate(l):\n",
    "    tempString = ''\n",
    "    for t in range( len(l)):\n",
    "        tempString = tempString + l[t] \n",
    "    return tempString"
   ]
  },
  {
   "cell_type": "code",
   "execution_count": 8,
   "id": "2a0a72db",
   "metadata": {},
   "outputs": [],
   "source": [
    "##letter link\n",
    "#in : symbol and word ; out : list for letter link\n",
    "#example: ( \"(1)2\" , [x_1, x_2] ) --> [0,1,0,0]\n",
    "def letterLink(symbol , word):\n",
    "    w =word\n",
    "    #clean string and enumerate\n",
    "    s = symbol.strip()\n",
    "    e = list(s)\n",
    "    \n",
    "    \n",
    "    #####These are the 'atomic symbols'\n",
    "    #for symbols of length 1 return the corresponding indicator form\n",
    "    if len(e) ==1 :\n",
    "        return chi(int(e[0]))(w)\n",
    "    \n",
    "    #for symbols begining and ending with parenthases return dInverse of the letter link of the inside\n",
    "    if e[0] == '(' and e[len(e)-1] == ')':\n",
    "        #extract the string in between the parenthases\n",
    "        tempString = concatenate(e[1:len(e)-1])\n",
    "        # dInv of the form inbetween the parenthases\n",
    "        return dInv(w, letterLink(tempString , w))\n",
    "    \n",
    "    #####General symbol broken into a product of the above \n",
    "    else:\n",
    "        #find position of the outermost parenthases\n",
    "        #make a list which keeps track of the parenthases as we iterate through\n",
    "        pCounter = []\n",
    "        count = 0\n",
    "        for i in range(len(e)):\n",
    "            if e[i] == '(':\n",
    "                count = count +1\n",
    "            if e[i] == ')':\n",
    "                count = count -1\n",
    "            pCounter.append(count)\n",
    "  \n",
    "        #find where count of parenthases are zero\n",
    "        zeroCount = [ index  for index, entry in enumerate(pCounter) if entry == 0]\n",
    "       \n",
    "        #based of zero counts make sub lists of symbol for outermost components\n",
    "        pLocation = []\n",
    "        pLocation.append([0,zeroCount[0]])\n",
    "        for i in range(1,len(zeroCount)):\n",
    "            pLocation.append( [zeroCount[i-1]+1 , zeroCount[i]])\n",
    "        \n",
    "        #product of the letterLink of these substrings\n",
    "        prod = np.array([1 for i in range(len(w))]) \n",
    "        for k in pLocation:\n",
    "            prod = prod*letterLink(concatenate(e[k[0]:k[1]+1]),w)\n",
    "        return prod"
   ]
  },
  {
   "cell_type": "code",
   "execution_count": 9,
   "id": "307d83d0",
   "metadata": {},
   "outputs": [],
   "source": [
    "#####Class for trees\n",
    "class Tree():\n",
    "    def __init__(self, root):\n",
    "        self.root = root\n",
    "        \n",
    "        \n",
    "    \n",
    "####Class for nodes\n",
    "class Node():\n",
    "    def __init__(self, value = None , leafDist = None ,name = None ):\n",
    "        self.value = value\n",
    "        #list of parents\n",
    "        self.parents = []\n",
    "        #max distance to Leaf\n",
    "        #will be populated by method distToLeaf\n",
    "        self.leafDist = leafDist   \n",
    "        #nickname for verifying things\n",
    "        self.name = name\n",
    "        \n",
    "    \n",
    "    #method to add parents to node    \n",
    "    def addParent(self, parent):\n",
    "        self.parents.append(parent)\n",
    "    \n",
    "    #method which returns the max distance to a leaf\n",
    "    def distToLeaf(self, dist = 0):\n",
    "        if len(self.parents)==0:\n",
    "            dist = 0\n",
    "            self.leafDist =dist\n",
    "            return dist\n",
    "        for i in self.parents:\n",
    "            dist = max(dist, i.distToLeaf(dist) +1 )\n",
    "        self.leafDist = dist \n",
    "        return dist\n",
    "    \n",
    "    #given node, get list of all nodes above it\n",
    "    #distToLeaf method must be ran first to populate the value of leafDist\n",
    "    def nodesAbove(self , l =[]):\n",
    "        if len(l) == 0:\n",
    "            l = [self]\n",
    "        for i in self.parents:\n",
    "            l.append(i)\n",
    "            i.nodesAbove(l)\n",
    "        return l"
   ]
  },
  {
   "cell_type": "code",
   "execution_count": 10,
   "id": "e49f8e78",
   "metadata": {},
   "outputs": [],
   "source": [
    "def agentAlg(word , root):\n",
    "    w = word\n",
    "    #populate leaf distance and get sorted list\n",
    "    root.distToLeaf()\n",
    "    treeList = root.nodesAbove()\n",
    "    treeList.sort(key=lambda self : self.leafDist)\n",
    "\n",
    "    #dictionary of functions labeled by the sorted list\n",
    "    f = {key : {i :0 for i in range(-1,len(w)+1)} for key in treeList }\n",
    "\n",
    "\n",
    "\n",
    "    #update functions\n",
    "    for i in range(len(w)):\n",
    "        #print(f\"\\nStep {i+1}:\")\n",
    "        for key in f:\n",
    "            prod = 1\n",
    "            for p in key.parents:\n",
    "                prod = prod*f[p][i]\n",
    "            if w[i][1] == -1 and key.value[i] != 0:\n",
    "                #postpone the increment to following pass \n",
    "                f[key][i+1] =  key.value[i]*prod\n",
    "                #take care of any changes made in i-1\n",
    "                f[key][i] = f[key][i] +f[key][i-1] \n",
    "                    \n",
    "            else:\n",
    "                f[key][i] = f[key][i] + f[key][i-1] + key.value[i]*prod\n",
    "            #print(f'{key.name}:  {[f[key][i] for i in range( len(w))]}')\n",
    "            \n",
    "    \n",
    "    #display and get output        \n",
    "    \n",
    "    for k in f.keys():\n",
    "        f[k][len(w)] = f[k][len(w)] + f[k][len(w)-1]\n",
    "        print(f'\\n{k.name}= {[f[k][i] for i in range( len(w))]}; output={f[k][len(w)]}')\n",
    "              "
   ]
  },
  {
   "cell_type": "code",
   "execution_count": 11,
   "id": "c603533a",
   "metadata": {},
   "outputs": [
    {
     "data": {
      "text/plain": [
       "[<__main__.Node object at 0x12b52d990>, <__main__.Node object at 0x12b52da50>]"
      ]
     },
     "execution_count": 11,
     "metadata": {},
     "output_type": "execute_result"
    }
   ],
   "source": [
    "def symbolToTree( symbol):\n",
    "    s = symbol.strip()\n",
    "    e = list(s)\n",
    "    \n",
    "    #basic symbols\n",
    "    if len(e) ==1 :\n",
    "        root = Node(chi(int(s)) , name='root')\n",
    "        return root\n",
    "    \n",
    "    if e[0] == '(' and e[len(e)-1] == ')':\n",
    "        #extract the string in between the parenthases\n",
    "        tempString = concatenate(e[1:len(e)-1])\n",
    "        # dInv of the form inbetween the parenthases\n",
    "        return symbolToTree(tempString)\n",
    "    \n",
    "    else:\n",
    "        #find position of the outermost parenthases\n",
    "        #make a list which keeps track of the parenthases as we iterate through\n",
    "        pCounter = []\n",
    "        count = 0\n",
    "        for i in range(len(e)):\n",
    "            if e[i] == '(':\n",
    "                count = count +1\n",
    "            if e[i] == ')':\n",
    "                count = count -1\n",
    "            pCounter.append(count)\n",
    "  \n",
    "        #find where count of parenthases are zero\n",
    "        zeroCount = [ index  for index, entry in enumerate(pCounter) if entry == 0]\n",
    "       \n",
    "        #based of zero counts make sub lists of symbol for outermost components\n",
    "        pLocation = []\n",
    "        pLocation.append([0,zeroCount[0]])\n",
    "        for i in range(1,len(zeroCount)):\n",
    "            pLocation.append( [zeroCount[i-1]+1 , zeroCount[i]])\n",
    "        \n",
    "        #find the root\n",
    "        noParenth = [pLocation[i][1] for i in range(len(pLocation)) if pLocation[i][1]-pLocation[i][0] == 0]\n",
    "        \n",
    "        \n",
    "        #If there are multiple places with no parenthesis return error\n",
    "        if len(noParenth) != 1 :\n",
    "            raise Exception('too many or too few parenthases')\n",
    "            \n",
    "            \n",
    "        #make node for the root\n",
    "        root = Node(chi(noParenth[0]) )\n",
    "        \n",
    "        #attach the nodes from the other parenthases to the root\n",
    "        parenth = [ i for i in pLocation if i[0]-i[1] != 0]\n",
    "        for i in parenth:\n",
    "            root.addParent(symbolToTree(concatenate(e[i[0]:i[1]+1])))\n",
    "            \n",
    "        #return\n",
    "        return root\n",
    "    \n",
    "w = [[1,1] , [2,1]]  \n",
    "s = '2(1)(3)'\n",
    "\n",
    "symbolToTree(s).parents\n",
    "\n",
    "\n",
    "\n",
    "####### make a way to evaluate forms on a word"
   ]
  },
  {
   "cell_type": "markdown",
   "id": "3b16955e",
   "metadata": {},
   "source": [
    "# Testing"
   ]
  },
  {
   "cell_type": "markdown",
   "id": "f5fe8a87",
   "metadata": {},
   "source": [
    "### Test 1:\n",
    "\n",
    "$w =a^{-1} b^{-1} ab$\n",
    "\n",
    "$A \\rightarrow A$"
   ]
  },
  {
   "cell_type": "code",
   "execution_count": 12,
   "id": "9cb80e7a",
   "metadata": {},
   "outputs": [
    {
     "name": "stdout",
     "output_type": "stream",
     "text": [
      "\n",
      "leaf= [0, -1, 0, 0]; output=0\n",
      "\n",
      "root= [0, 0, 0, 0]; output=0\n"
     ]
    }
   ],
   "source": [
    "w = [[1,-1]  ,[2,-1]  , [1,1], [2,1] ]\n",
    "\n",
    "\n",
    "root = Node(chi(1)(w), name= 'root')\n",
    "p = Node(chi(1)(w),name= 'leaf')\n",
    "root.addParent(p)\n",
    "\n",
    "agentAlg(w , root)"
   ]
  },
  {
   "cell_type": "code",
   "execution_count": 13,
   "id": "7a9f67a7",
   "metadata": {},
   "outputs": [
    {
     "name": "stdout",
     "output_type": "stream",
     "text": [
      "[-1  0  1  0]\n",
      "[ 0 -1  0  0]\n",
      "[0 0 0 0]\n"
     ]
    }
   ],
   "source": [
    "s='1'\n",
    "print(letterLink(s,w))\n",
    "s='(1)'\n",
    "print(letterLink(s,w))\n",
    "s='(1)1'\n",
    "print(letterLink(s,w))"
   ]
  },
  {
   "cell_type": "markdown",
   "id": "6ea607d3",
   "metadata": {},
   "source": [
    "### Test 2:\n",
    "\n",
    "$w =a b a^{-1}b^{-1}$\n",
    "\n",
    "$A \\rightarrow A$"
   ]
  },
  {
   "cell_type": "code",
   "execution_count": 14,
   "id": "d0389126",
   "metadata": {
    "scrolled": true
   },
   "outputs": [
    {
     "name": "stdout",
     "output_type": "stream",
     "text": [
      "\n",
      "leaf= [1, 1, 1, 0]; output=0\n",
      "\n",
      "root= [1, 1, 1, 0]; output=0\n"
     ]
    }
   ],
   "source": [
    "w = [[1,1]  ,[2,1]  , [1,-1], [2,-1] ]\n",
    "\n",
    "root = Node(chi(1)(w), name= 'root')\n",
    "p = Node(chi(1)(w),name= 'leaf')\n",
    "root.addParent(p)\n",
    "\n",
    "agentAlg(w , root)"
   ]
  },
  {
   "cell_type": "code",
   "execution_count": 15,
   "id": "28399cb0",
   "metadata": {},
   "outputs": [
    {
     "name": "stdout",
     "output_type": "stream",
     "text": [
      "[ 1  0 -1  0]\n",
      "[1, 1, 1, 0]\n",
      "[ 1  0 -1  0]\n"
     ]
    }
   ],
   "source": [
    "s='1'\n",
    "print(letterLink(s,w))\n",
    "s='(1)'\n",
    "print(list(letterLink(s,w)))\n",
    "s='(1)1'\n",
    "print(letterLink(s,w))"
   ]
  },
  {
   "cell_type": "markdown",
   "id": "a48664e8",
   "metadata": {},
   "source": [
    "### Test 3:\n",
    "\n",
    "$w = [a,[a,b]] $\n",
    "\n",
    "$A \\rightarrow A \\rightarrow B $"
   ]
  },
  {
   "cell_type": "code",
   "execution_count": 16,
   "id": "d9dc79f3",
   "metadata": {},
   "outputs": [
    {
     "name": "stdout",
     "output_type": "stream",
     "text": [
      "\n",
      "leaf= [1, 2, 2, 2, 1, 1, 0, 1, 1, 1]; output=0\n",
      "\n",
      "internal= [1, 3, 3, 3, 1, 1, 0, 1, 1, 1]; output=0\n",
      "\n",
      "root= [0, 0, 3, 3, 3, 2, 2, 2, 2, 1]; output=1\n"
     ]
    }
   ],
   "source": [
    "w = [[1,1] , [1,1]  ,[2,1]  , [1,-1], [2,-1] , [1,-1] ,[2,1], [1,1], [2,-1], [1,-1] ]\n",
    "\n",
    "\n",
    "root = Node(chi(2)(w), name= 'root')\n",
    "p = Node(chi(1)(w),name= 'internal')\n",
    "p1 = Node(chi(1)(w),name= 'leaf')\n",
    "root.addParent(p)\n",
    "p.addParent(p1)\n",
    "\n",
    "agentAlg(w , root)"
   ]
  },
  {
   "cell_type": "code",
   "execution_count": 17,
   "id": "afcf1062",
   "metadata": {},
   "outputs": [
    {
     "name": "stdout",
     "output_type": "stream",
     "text": [
      "1 :\n",
      "  [1, 1, 0, -1, 0, -1, 0, 1, 0, -1]\n",
      "(1) :\n",
      "  [1, 2, 2, 2, 1, 1, 0, 1, 1, 1]\n",
      "(1)1 :\n",
      "  [1, 2, 0, -2, 0, -1, 0, 1, 0, -1]\n",
      "((1)1) :\n",
      "  [1, 3, 3, 3, 1, 1, 0, 1, 1, 1]\n",
      "((1)1)2 :\n",
      "  [0, 0, 3, 0, -1, 0, 0, 0, -1, 0]\n"
     ]
    }
   ],
   "source": [
    "s='1'\n",
    "print(s, ':\\n ' ,list(letterLink(s,w)))\n",
    "s='(1)'\n",
    "print( s, ':\\n ' ,list(letterLink(s,w)))\n",
    "s='(1)1'\n",
    "print( s, ':\\n ' ,list(letterLink(s,w)))\n",
    "s='((1)1)'\n",
    "print( s, ':\\n ' ,list(letterLink(s,w)))\n",
    "s='((1)1)2'\n",
    "print( s, ':\\n ' ,list(letterLink(s,w)))"
   ]
  },
  {
   "cell_type": "markdown",
   "id": "868d850c",
   "metadata": {},
   "source": [
    "### Test 4:\n",
    "\n",
    "$w = aaabca^{-1} a^{-1} a^{-1} $\n",
    "\n",
    "$A \\rightarrow A \\rightarrow A $"
   ]
  },
  {
   "cell_type": "code",
   "execution_count": 18,
   "id": "c7b9de6c",
   "metadata": {},
   "outputs": [
    {
     "name": "stdout",
     "output_type": "stream",
     "text": [
      "\n",
      "leaf= [1, 2, 3, 3, 3, 3, 2, 1]; output=0\n",
      "\n",
      "internal= [1, 3, 6, 6, 6, 6, 3, 1]; output=0\n",
      "\n",
      "root= [1, 4, 10, 10, 10, 10, 4, 1]; output=0\n"
     ]
    }
   ],
   "source": [
    "w = [[1,1],[1,1],[1,1],[2,1],[3,1],[1,-1],[1,-1],[1,-1]]\n",
    "\n",
    "root = Node(chi(1)(w), name= 'root')\n",
    "p = Node(chi(1)(w),name= 'internal')\n",
    "p1 = Node(chi(1)(w),name= 'leaf')\n",
    "root.addParent(p)\n",
    "p.addParent(p1)\n",
    "\n",
    "agentAlg(w,root)"
   ]
  },
  {
   "cell_type": "code",
   "execution_count": 19,
   "id": "b21f9606",
   "metadata": {},
   "outputs": [
    {
     "name": "stdout",
     "output_type": "stream",
     "text": [
      "1 :\n",
      "  [1, 1, 1, 0, 0, -1, -1, -1]\n",
      "(1) :\n",
      "  [1, 2, 3, 3, 3, 3, 2, 1]\n",
      "(1)1 :\n",
      "  [1, 2, 3, 0, 0, -3, -2, -1]\n",
      "((1)1) :\n",
      "  [1, 3, 6, 6, 6, 6, 3, 1]\n",
      "((1)1)1 :\n",
      "  [1, 3, 6, 0, 0, -6, -3, -1]\n"
     ]
    }
   ],
   "source": [
    "s='1'\n",
    "print(s, ':\\n ' ,list(letterLink(s,w)))\n",
    "s='(1)'\n",
    "print( s, ':\\n ' ,list(letterLink(s,w)))\n",
    "s='(1)1'\n",
    "print( s, ':\\n ' ,list(letterLink(s,w)))\n",
    "s='((1)1)'\n",
    "print( s, ':\\n ' ,list(letterLink(s,w)))\n",
    "s='((1)1)1'\n",
    "print( s, ':\\n ' ,list(letterLink(s,w)))"
   ]
  },
  {
   "cell_type": "code",
   "execution_count": null,
   "id": "bef59963",
   "metadata": {},
   "outputs": [],
   "source": []
  },
  {
   "cell_type": "code",
   "execution_count": null,
   "id": "6463e0e5",
   "metadata": {},
   "outputs": [],
   "source": []
  },
  {
   "cell_type": "code",
   "execution_count": null,
   "id": "ac437ba2",
   "metadata": {},
   "outputs": [],
   "source": []
  }
 ],
 "metadata": {
  "kernelspec": {
   "display_name": "SageMath 10.0",
   "language": "sage",
   "name": "sagemath-10.0"
  },
  "language_info": {
   "codemirror_mode": {
    "name": "ipython",
    "version": 3
   },
   "file_extension": ".py",
   "mimetype": "text/x-python",
   "name": "python",
   "nbconvert_exporter": "python",
   "pygments_lexer": "ipython3",
   "version": "3.11.1"
  }
 },
 "nbformat": 4,
 "nbformat_minor": 5
}
